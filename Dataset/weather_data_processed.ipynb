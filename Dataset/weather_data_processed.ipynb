{
 "cells": [
  {
   "cell_type": "code",
   "execution_count": 5,
   "metadata": {},
   "outputs": [],
   "source": [
    "import datetime\n",
    "import pandas as pd # data processing"
   ]
  },
  {
   "cell_type": "code",
   "execution_count": 6,
   "metadata": {},
   "outputs": [],
   "source": [
    "df = pd.read_csv('apartment2014.csv')\n",
    "df['time_w']= pd.to_datetime(df['time'], unit='s')\n",
    "df_w = df.set_index('time_w')\n",
    "df_w=df_w.resample('15min').mean()\n",
    "df_w=df_w.interpolate(method='linear')\n",
    "df_w=df_w.drop(columns=['time'])\n",
    "df_w.index = df_w.index - pd.Timedelta('05:00:00')\n",
    "df_w.to_csv('apartment2014_weather.csv')"
   ]
  },
  {
   "cell_type": "code",
   "execution_count": 7,
   "metadata": {},
   "outputs": [],
   "source": [
    "df = pd.read_csv('apartment2015.csv')\n",
    "df['time_w']= pd.to_datetime(df['time'], unit='s')\n",
    "df_w = df.set_index('time_w')\n",
    "df_w=df_w.resample('15min').mean()\n",
    "df_w=df_w.interpolate(method='linear')\n",
    "df_w=df_w.drop(columns=['time'])\n",
    "df_w.index = df_w.index - pd.Timedelta('05:00:00')\n",
    "df_w.to_csv('apartment2015_weather.csv')"
   ]
  },
  {
   "cell_type": "code",
   "execution_count": 8,
   "metadata": {},
   "outputs": [],
   "source": [
    "df = pd.read_csv('apartment2016.csv')\n",
    "df['time_w']= pd.to_datetime(df['time'], unit='s')\n",
    "df_w = df.set_index('time_w')\n",
    "df_w=df_w.resample('15min').mean()\n",
    "df_w=df_w.interpolate(method='linear')\n",
    "df_w=df_w.drop(columns=['time'])\n",
    "df_w.index = df_w.index - pd.Timedelta('05:00:00')\n",
    "df_w.to_csv('apartment2016_weather.csv')"
   ]
  }
 ],
 "metadata": {
  "kernelspec": {
   "display_name": "Python 3",
   "language": "python",
   "name": "python3"
  },
  "language_info": {
   "codemirror_mode": {
    "name": "ipython",
    "version": 3
   },
   "file_extension": ".py",
   "mimetype": "text/x-python",
   "name": "python",
   "nbconvert_exporter": "python",
   "pygments_lexer": "ipython3",
   "version": "3.6.5"
  }
 },
 "nbformat": 4,
 "nbformat_minor": 2
}
